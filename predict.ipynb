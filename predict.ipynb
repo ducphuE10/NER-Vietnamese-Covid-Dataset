{
 "cells": [
  {
   "cell_type": "code",
   "execution_count": 1,
   "id": "05d1b074",
   "metadata": {},
   "outputs": [],
   "source": [
    "import torch\n",
    "import gensim\n",
    "from model import lstm_crf\n",
    "from dataset import Dataset\n",
    "from underthesea import word_tokenize"
   ]
  },
  {
   "cell_type": "markdown",
   "id": "afa168f5",
   "metadata": {},
   "source": [
    "# Load pretrained model"
   ]
  },
  {
   "cell_type": "code",
   "execution_count": 2,
   "id": "fcea8d6a",
   "metadata": {
    "pycharm": {
     "name": "#%%\n"
    }
   },
   "outputs": [],
   "source": [
    "w2v_path = 'word2vec_vi_words_300dims/word2vec_vi_words_300dims.txt'\n",
    "wv_model = gensim.models.KeyedVectors.load_word2vec_format(w2v_path)"
   ]
  },
  {
   "cell_type": "code",
   "execution_count": 3,
   "id": "f072d08a",
   "metadata": {
    "pycharm": {
     "name": "#%%\n"
    }
   },
   "outputs": [],
   "source": [
    "level = 'word'\n",
    "corpus = Dataset(train_path='dataset/train_word_aug_phu.conll',\n",
    "                 val_path='dataset/dev_word.conll',\n",
    "                #  test_path = '/content/NER-Vietnamese-Covid-Dataset/dataset/test_word.conll',\n",
    "                 test_path = 'dataset/test_word_origin.conll',\n",
    "                 batch_size=36,\n",
    "                 lower_word = False,\n",
    "                 wv_model = wv_model,\n",
    "                 )"
   ]
  },
  {
   "cell_type": "code",
   "execution_count": 4,
   "id": "347a4337",
   "metadata": {},
   "outputs": [
    {
     "data": {
      "text/plain": "<All keys matched successfully>"
     },
     "execution_count": 4,
     "metadata": {},
     "output_type": "execute_result"
    }
   ],
   "source": [
    "path = 'pretrain/model.pt'\n",
    "\n",
    "model = lstm_crf(\n",
    "    word_input_dim=len(corpus.word_field.vocab),\n",
    "    word_embedding_dim=300,\n",
    "    char_embedding_dim=50,\n",
    "    char_input_dim=len(corpus.char_field.vocab),\n",
    "    char_cnn_filter_num=5,\n",
    "    char_cnn_kernel_size=3,\n",
    "    lstm_hidden_dim=200,\n",
    "    output_dim=len(corpus.tag_field.vocab),\n",
    "    lstm_layers=2,\n",
    "    char_emb_dropout=0.5,\n",
    "    word_emb_dropout=0.5,\n",
    "    cnn_dropout=0.25,\n",
    "    lstm_dropout=0.1,\n",
    "    fc_dropout=0.25,\n",
    "    word_pad_idx=corpus.word_pad_idx,\n",
    "    char_pad_idx=corpus.char_pad_idx,\n",
    "    tag_pad_idx=corpus.tag_pad_idx,\n",
    "    use_char= True\n",
    ")\n",
    "\n",
    "checkpoint = torch.load(path)\n",
    "model.load_state_dict(checkpoint['model_state_dict'])"
   ]
  },
  {
   "cell_type": "markdown",
   "id": "62e6fea5",
   "metadata": {},
   "source": [
    "# Predict"
   ]
  },
  {
   "cell_type": "code",
   "execution_count": null,
   "outputs": [],
   "source": [],
   "metadata": {
    "collapsed": false,
    "pycharm": {
     "name": "#%%\n"
    }
   }
  },
  {
   "cell_type": "code",
   "execution_count": 4,
   "id": "dad2b101",
   "metadata": {},
   "outputs": [],
   "source": [
    "def predict(data,model, sentence, device = 'cuda', true_tags=None, segment = True):\n",
    "    model.to(device)\n",
    "    model.eval()\n",
    "    # tokenize sentence\n",
    "    tokens = sentence\n",
    "    if segment:\n",
    "        tokens = word_tokenize(sentence,format=\"text\").split()\n",
    "    \n",
    "    \n",
    "    max_word_len = max([len(token) for token in tokens])\n",
    "\n",
    "    # # transform to indices based on corpus vocab\n",
    "    numericalized_tokens = [data.word_field.vocab.stoi[token.lower()] for token in tokens]\n",
    "    numericalized_chars = []\n",
    "    char_pad_id = data.char_pad_idx\n",
    "    for token in tokens:\n",
    "        numericalized_chars.append(\n",
    "            [data.char_field.vocab.stoi[char] for char in token]\n",
    "            + [char_pad_id for _ in range(max_word_len - len(token))]\n",
    "        )\n",
    "\n",
    "\n",
    "    # find unknown words\n",
    "    unk_idx = data.word_field.vocab.stoi[data.word_field.unk_token]\n",
    "    unks = [t for t, n in zip(tokens, numericalized_tokens) if n == unk_idx]\n",
    "    # begin prediction\n",
    "    token_tensor = torch.as_tensor(numericalized_tokens)\n",
    "    token_tensor = token_tensor.unsqueeze(-1).to(device)\n",
    "    char_tensor = torch.as_tensor(numericalized_chars)\n",
    "    char_tensor = char_tensor.unsqueeze(0).to(device)\n",
    "    predictions, _ = model(token_tensor, char_tensor)\n",
    "    # convert results to tags\n",
    "    predicted_tags = [data.tag_field.vocab.itos[t] for t in predictions[0]]\n",
    "    # print inferred tags\n",
    "    max_len_token = max([len(token) for token in tokens] + [len('word')])\n",
    "    max_len_tag = max([len(tag) for tag in predicted_tags] + [len('pred')])\n",
    "    print(\n",
    "        f\"{'word'.ljust(max_len_token)}\\t{'unk'.ljust(max_len_token)}\\t{'pred tag'.ljust(max_len_tag)}\"\n",
    "        + (\"\\ttrue tag\" if true_tags else \"\")\n",
    "    )\n",
    "    for i, token in enumerate(tokens):\n",
    "        is_unk = \"✓\" if token in unks else \"\"\n",
    "        print(\n",
    "            f\"{token.ljust(max_len_token)}\\t{is_unk.ljust(max_len_token)}\\t{predicted_tags[i].ljust(max_len_tag)}\"\n",
    "            + (f\"\\t{true_tags[i]}\" if true_tags else \"\")\n",
    "        )\n",
    "    return tokens, predicted_tags, unks"
   ]
  },
  {
   "cell_type": "code",
   "execution_count": 5,
   "id": "daf36e22",
   "metadata": {},
   "outputs": [
    {
     "name": "stdout",
     "output_type": "stream",
     "text": [
      "word     \tunk      \tpred tag  \ttrue tag\n",
      "từ       \t         \tO         \tO\n",
      "00       \t         \tB-DATE    \tB-DATE\n",
      "-        \t         \tI-DATE    \tI-DATE\n",
      "0        \t         \tI-DATE    \tI-DATE\n",
      "đến      \t         \tO         \tO\n",
      "00       \t         \tB-DATE    \tB-DATE\n",
      "-        \t         \tI-DATE    \tI-DATE\n",
      "0        \t         \tI-DATE    \tI-DATE\n",
      ",        \t         \tO         \tO\n",
      "bệnh_nhân\t         \tO         \tO\n",
      "được     \t         \tO         \tO\n",
      "mẹ       \t         \tO         \tO\n",
      "là       \t         \tO         \tO\n",
      "bà       \t         \tO         \tO\n",
      "h.t.p    \t✓        \tB-NAME    \tB-NAME\n",
      "(        \t         \tO         \tO\n",
      "00       \t         \tB-AGE     \tB-AGE\n",
      "tuổi     \t         \tO         \tO\n",
      ")        \t         \tO         \tO\n",
      "đón      \t         \tO         \tO\n",
      "về       \t         \tO         \tO\n",
      "nhà      \t         \tO         \tO\n",
      "ở        \t         \tO         \tO\n",
      "phường   \t         \tO         \tB-LOCATION\n",
      "phước_hoà\t         \tO         \tI-LOCATION\n",
      "(        \t         \tO         \tO\n",
      "bằng     \t         \tO         \tO\n",
      "xe_máy   \t         \tO         \tO\n",
      ")        \t         \tO         \tO\n",
      ",        \t         \tO         \tO\n",
      "không    \t         \tO         \tO\n",
      "đi       \t         \tO         \tO\n",
      "đâu      \t         \tO         \tO\n",
      "chỉ      \t         \tO         \tO\n",
      "ra       \t         \tO         \tO\n",
      "tạp_hoá  \t         \tO         \tB-LOCATION\n",
      "phượng   \t✓        \tO         \tI-LOCATION\n",
      ",        \t         \tO         \tO\n",
      "chợ      \t         \tB-LOCATION\tB-LOCATION\n",
      "vườn_lài \t         \tI-LOCATION\tI-LOCATION\n",
      ",        \t         \tO         \tO\n",
      "phường   \t         \tB-LOCATION\tB-LOCATION\n",
      "an_sơn   \t✓        \tI-LOCATION\tI-LOCATION\n",
      "cùng     \t         \tO         \tO\n",
      "mẹ       \t         \tO         \tO\n",
      "bán      \t         \tO         \tB-JOB\n",
      "tạp_hoá  \t         \tO         \tI-JOB\n",
      "ở        \t         \tO         \tO\n",
      "đây      \t         \tO         \tO\n",
      ".        \t         \tO         \tO\n",
      "\n"
     ]
    },
    {
     "name": "stderr",
     "output_type": "stream",
     "text": [
      "C:\\Users\\Asus\\Desktop\\SE_project\\NER\\venv\\lib\\site-packages\\torchcrf\\__init__.py:305: UserWarning: where received a uint8 condition tensor. This behavior is deprecated and will be removed in a future version of PyTorch. Use a boolean condition instead. (Triggered internally at  ..\\aten\\src\\ATen\\native\\TensorCompare.cpp:333.)\n",
      "  score = torch.where(mask[i].unsqueeze(1), next_score, score)\n"
     ]
    }
   ],
   "source": [
    "sentence = corpus.test_dataset[0].word\n",
    "tags = corpus.test_dataset[0].tag\n",
    "\n",
    "words, infer_tags, unknown_tokens = predict(data = corpus,\n",
    "                                            model = model,\n",
    "                                            sentence = sentence,\n",
    "                                            device = 'cpu',\n",
    "                                            true_tags=tags,\n",
    "                                            segment = False)\n",
    "print()"
   ]
  },
  {
   "cell_type": "markdown",
   "id": "5ae75005",
   "metadata": {},
   "source": [
    "# History of traning 30 epochs"
   ]
  },
  {
   "cell_type": "markdown",
   "id": "62d76643",
   "metadata": {},
   "source": [
    "## Plot F1 score & Percentage of predicted sentences correctly on validation set during training phase"
   ]
  },
  {
   "cell_type": "code",
   "execution_count": 101,
   "id": "60729793",
   "metadata": {
    "scrolled": false
   },
   "outputs": [
    {
     "data": {
      "image/png": "[encoded data removed]",
      "text/plain": [
       "<Figure size 720x540 with 1 Axes>"
      ]
     },
     "metadata": {
      "needs_background": "light"
     },
     "output_type": "display_data"
    }
   ],
   "source": [
    "import matplotlib.pyplot as plt\n",
    "import numpy as np\n",
    "plt.figure(figsize=(8, 6), dpi=90)\n",
    "val_f1_his = history['val_f1']\n",
    "val_sen_acc_his = history['val_sent_acc']\n",
    "plt.plot(np.arange(30),val_f1_his, label='val_f1')\n",
    "plt.plot(np.arange(30),val_sen_acc_his,label='val_sent_acc',color = 'red')\n",
    "\n",
    "for var in (val_f1_his, val_sen_acc_his):\n",
    "    plt.annotate('%0.2f' % max(var), xy=(1, max(var)), xytext=(-25, 5), \n",
    "                 xycoords=('axes fraction', 'data'), textcoords='offset points')\n",
    "\n",
    "plt.xlabel('Epoch')\n",
    "# plt.ylabel('')\n",
    "plt.title(\"F1 score & Percentage of predicted sentences correctly on validation set\")\n",
    "plt.legend()\n",
    "plt.show()"
   ]
  },
  {
   "cell_type": "markdown",
   "id": "a70cc9f8",
   "metadata": {},
   "source": [
    "# Evaluate on test set"
   ]
  },
  {
   "cell_type": "code",
   "execution_count": 5,
   "id": "4a79bde9",
   "metadata": {},
   "outputs": [],
   "source": [
    "from sklearn.metrics import f1_score, classification_report\n",
    "import warnings\n",
    "warnings.filterwarnings('ignore')\n",
    "\n",
    "def f1_positive(corpus, preds, y, full_report=True):\n",
    "    index_o = corpus.tag_field.vocab.stoi[\"O\"]\n",
    "    index_pad = corpus.tag_pad_idx\n",
    "    # take all labels except padding and \"O\"\n",
    "    positive_labels = [i for i in range(len(corpus.tag_field.vocab.itos))\n",
    "                       if i not in [index_pad, index_o]]\n",
    "\n",
    "    flatten_pred = [pred for sent_pred in preds for pred in sent_pred]\n",
    "    flatten_y = [tag for sent_tag in y for tag in sent_tag]\n",
    "\n",
    "    if full_report:\n",
    "        # take all names except padding and \"O\"\n",
    "        positive_names = [corpus.tag_field.vocab.itos[i] for i in positive_labels]\n",
    "\n",
    "        print(classification_report(\n",
    "            y_true=flatten_y,\n",
    "            y_pred=flatten_pred,\n",
    "            labels=positive_labels,\n",
    "            target_names=positive_names\n",
    "        ))\n",
    "\n",
    "\n",
    "    return f1_score(\n",
    "        y_true=flatten_y,\n",
    "        y_pred=flatten_pred,\n",
    "        labels=positive_labels,\n",
    "        average=\"micro\"\n",
    "    )\n",
    "    \n",
    "\n",
    "def sent_accuracy(preds, y):\n",
    "    assert len(preds) == len(y)\n",
    "    count = 0\n",
    "    for i in range(len(preds)):\n",
    "        if preds[i] == y[i]:\n",
    "            count += 1\n",
    "\n",
    "    return count / len(preds)"
   ]
  },
  {
   "cell_type": "code",
   "execution_count": 9,
   "outputs": [
    {
     "ename": "RuntimeError",
     "evalue": "CUDA out of memory. Tried to allocate 1.78 GiB (GPU 0; 4.00 GiB total capacity; 1.79 GiB already allocated; 1.08 GiB free; 1.80 GiB reserved in total by PyTorch) If reserved memory is >> allocated memory try setting max_split_size_mb to avoid fragmentation.  See documentation for Memory Management and PYTORCH_CUDA_ALLOC_CONF",
     "output_type": "error",
     "traceback": [
      "\u001B[1;31m---------------------------------------------------------------------------\u001B[0m",
      "\u001B[1;31mRuntimeError\u001B[0m                              Traceback (most recent call last)",
      "Input \u001B[1;32mIn [9]\u001B[0m, in \u001B[0;36m<cell line: 2>\u001B[1;34m()\u001B[0m\n\u001B[0;32m      1\u001B[0m device \u001B[38;5;241m=\u001B[39m \u001B[38;5;124m'\u001B[39m\u001B[38;5;124mcuda\u001B[39m\u001B[38;5;124m'\u001B[39m\n\u001B[1;32m----> 2\u001B[0m model \u001B[38;5;241m=\u001B[39m \u001B[43mmodel\u001B[49m\u001B[38;5;241;43m.\u001B[39;49m\u001B[43mto\u001B[49m\u001B[43m(\u001B[49m\u001B[43mdevice\u001B[49m\u001B[43m)\u001B[49m\n\u001B[0;32m      3\u001B[0m model\u001B[38;5;241m.\u001B[39meval()\n\u001B[0;32m      4\u001B[0m \u001B[38;5;28;01mwith\u001B[39;00m torch\u001B[38;5;241m.\u001B[39mno_grad():\n",
      "File \u001B[1;32m~\\Desktop\\SE_project\\NER\\venv\\lib\\site-packages\\torch\\nn\\modules\\module.py:907\u001B[0m, in \u001B[0;36mModule.to\u001B[1;34m(self, *args, **kwargs)\u001B[0m\n\u001B[0;32m    903\u001B[0m         \u001B[38;5;28;01mreturn\u001B[39;00m t\u001B[38;5;241m.\u001B[39mto(device, dtype \u001B[38;5;28;01mif\u001B[39;00m t\u001B[38;5;241m.\u001B[39mis_floating_point() \u001B[38;5;129;01mor\u001B[39;00m t\u001B[38;5;241m.\u001B[39mis_complex() \u001B[38;5;28;01melse\u001B[39;00m \u001B[38;5;28;01mNone\u001B[39;00m,\n\u001B[0;32m    904\u001B[0m                     non_blocking, memory_format\u001B[38;5;241m=\u001B[39mconvert_to_format)\n\u001B[0;32m    905\u001B[0m     \u001B[38;5;28;01mreturn\u001B[39;00m t\u001B[38;5;241m.\u001B[39mto(device, dtype \u001B[38;5;28;01mif\u001B[39;00m t\u001B[38;5;241m.\u001B[39mis_floating_point() \u001B[38;5;129;01mor\u001B[39;00m t\u001B[38;5;241m.\u001B[39mis_complex() \u001B[38;5;28;01melse\u001B[39;00m \u001B[38;5;28;01mNone\u001B[39;00m, non_blocking)\n\u001B[1;32m--> 907\u001B[0m \u001B[38;5;28;01mreturn\u001B[39;00m \u001B[38;5;28;43mself\u001B[39;49m\u001B[38;5;241;43m.\u001B[39;49m\u001B[43m_apply\u001B[49m\u001B[43m(\u001B[49m\u001B[43mconvert\u001B[49m\u001B[43m)\u001B[49m\n",
      "File \u001B[1;32m~\\Desktop\\SE_project\\NER\\venv\\lib\\site-packages\\torch\\nn\\modules\\module.py:578\u001B[0m, in \u001B[0;36mModule._apply\u001B[1;34m(self, fn)\u001B[0m\n\u001B[0;32m    576\u001B[0m \u001B[38;5;28;01mdef\u001B[39;00m \u001B[38;5;21m_apply\u001B[39m(\u001B[38;5;28mself\u001B[39m, fn):\n\u001B[0;32m    577\u001B[0m     \u001B[38;5;28;01mfor\u001B[39;00m module \u001B[38;5;129;01min\u001B[39;00m \u001B[38;5;28mself\u001B[39m\u001B[38;5;241m.\u001B[39mchildren():\n\u001B[1;32m--> 578\u001B[0m         \u001B[43mmodule\u001B[49m\u001B[38;5;241;43m.\u001B[39;49m\u001B[43m_apply\u001B[49m\u001B[43m(\u001B[49m\u001B[43mfn\u001B[49m\u001B[43m)\u001B[49m\n\u001B[0;32m    580\u001B[0m     \u001B[38;5;28;01mdef\u001B[39;00m \u001B[38;5;21mcompute_should_use_set_data\u001B[39m(tensor, tensor_applied):\n\u001B[0;32m    581\u001B[0m         \u001B[38;5;28;01mif\u001B[39;00m torch\u001B[38;5;241m.\u001B[39m_has_compatible_shallow_copy_type(tensor, tensor_applied):\n\u001B[0;32m    582\u001B[0m             \u001B[38;5;66;03m# If the new tensor has compatible tensor type as the existing tensor,\u001B[39;00m\n\u001B[0;32m    583\u001B[0m             \u001B[38;5;66;03m# the current behavior is to change the tensor in-place using `.data =`,\u001B[39;00m\n\u001B[1;32m   (...)\u001B[0m\n\u001B[0;32m    588\u001B[0m             \u001B[38;5;66;03m# global flag to let the user control whether they want the future\u001B[39;00m\n\u001B[0;32m    589\u001B[0m             \u001B[38;5;66;03m# behavior of overwriting the existing tensor or not.\u001B[39;00m\n",
      "File \u001B[1;32m~\\Desktop\\SE_project\\NER\\venv\\lib\\site-packages\\torch\\nn\\modules\\module.py:578\u001B[0m, in \u001B[0;36mModule._apply\u001B[1;34m(self, fn)\u001B[0m\n\u001B[0;32m    576\u001B[0m \u001B[38;5;28;01mdef\u001B[39;00m \u001B[38;5;21m_apply\u001B[39m(\u001B[38;5;28mself\u001B[39m, fn):\n\u001B[0;32m    577\u001B[0m     \u001B[38;5;28;01mfor\u001B[39;00m module \u001B[38;5;129;01min\u001B[39;00m \u001B[38;5;28mself\u001B[39m\u001B[38;5;241m.\u001B[39mchildren():\n\u001B[1;32m--> 578\u001B[0m         \u001B[43mmodule\u001B[49m\u001B[38;5;241;43m.\u001B[39;49m\u001B[43m_apply\u001B[49m\u001B[43m(\u001B[49m\u001B[43mfn\u001B[49m\u001B[43m)\u001B[49m\n\u001B[0;32m    580\u001B[0m     \u001B[38;5;28;01mdef\u001B[39;00m \u001B[38;5;21mcompute_should_use_set_data\u001B[39m(tensor, tensor_applied):\n\u001B[0;32m    581\u001B[0m         \u001B[38;5;28;01mif\u001B[39;00m torch\u001B[38;5;241m.\u001B[39m_has_compatible_shallow_copy_type(tensor, tensor_applied):\n\u001B[0;32m    582\u001B[0m             \u001B[38;5;66;03m# If the new tensor has compatible tensor type as the existing tensor,\u001B[39;00m\n\u001B[0;32m    583\u001B[0m             \u001B[38;5;66;03m# the current behavior is to change the tensor in-place using `.data =`,\u001B[39;00m\n\u001B[1;32m   (...)\u001B[0m\n\u001B[0;32m    588\u001B[0m             \u001B[38;5;66;03m# global flag to let the user control whether they want the future\u001B[39;00m\n\u001B[0;32m    589\u001B[0m             \u001B[38;5;66;03m# behavior of overwriting the existing tensor or not.\u001B[39;00m\n",
      "File \u001B[1;32m~\\Desktop\\SE_project\\NER\\venv\\lib\\site-packages\\torch\\nn\\modules\\module.py:601\u001B[0m, in \u001B[0;36mModule._apply\u001B[1;34m(self, fn)\u001B[0m\n\u001B[0;32m    597\u001B[0m \u001B[38;5;66;03m# Tensors stored in modules are graph leaves, and we don't want to\u001B[39;00m\n\u001B[0;32m    598\u001B[0m \u001B[38;5;66;03m# track autograd history of `param_applied`, so we have to use\u001B[39;00m\n\u001B[0;32m    599\u001B[0m \u001B[38;5;66;03m# `with torch.no_grad():`\u001B[39;00m\n\u001B[0;32m    600\u001B[0m \u001B[38;5;28;01mwith\u001B[39;00m torch\u001B[38;5;241m.\u001B[39mno_grad():\n\u001B[1;32m--> 601\u001B[0m     param_applied \u001B[38;5;241m=\u001B[39m \u001B[43mfn\u001B[49m\u001B[43m(\u001B[49m\u001B[43mparam\u001B[49m\u001B[43m)\u001B[49m\n\u001B[0;32m    602\u001B[0m should_use_set_data \u001B[38;5;241m=\u001B[39m compute_should_use_set_data(param, param_applied)\n\u001B[0;32m    603\u001B[0m \u001B[38;5;28;01mif\u001B[39;00m should_use_set_data:\n",
      "File \u001B[1;32m~\\Desktop\\SE_project\\NER\\venv\\lib\\site-packages\\torch\\nn\\modules\\module.py:905\u001B[0m, in \u001B[0;36mModule.to.<locals>.convert\u001B[1;34m(t)\u001B[0m\n\u001B[0;32m    902\u001B[0m \u001B[38;5;28;01mif\u001B[39;00m convert_to_format \u001B[38;5;129;01mis\u001B[39;00m \u001B[38;5;129;01mnot\u001B[39;00m \u001B[38;5;28;01mNone\u001B[39;00m \u001B[38;5;129;01mand\u001B[39;00m t\u001B[38;5;241m.\u001B[39mdim() \u001B[38;5;129;01min\u001B[39;00m (\u001B[38;5;241m4\u001B[39m, \u001B[38;5;241m5\u001B[39m):\n\u001B[0;32m    903\u001B[0m     \u001B[38;5;28;01mreturn\u001B[39;00m t\u001B[38;5;241m.\u001B[39mto(device, dtype \u001B[38;5;28;01mif\u001B[39;00m t\u001B[38;5;241m.\u001B[39mis_floating_point() \u001B[38;5;129;01mor\u001B[39;00m t\u001B[38;5;241m.\u001B[39mis_complex() \u001B[38;5;28;01melse\u001B[39;00m \u001B[38;5;28;01mNone\u001B[39;00m,\n\u001B[0;32m    904\u001B[0m                 non_blocking, memory_format\u001B[38;5;241m=\u001B[39mconvert_to_format)\n\u001B[1;32m--> 905\u001B[0m \u001B[38;5;28;01mreturn\u001B[39;00m \u001B[43mt\u001B[49m\u001B[38;5;241;43m.\u001B[39;49m\u001B[43mto\u001B[49m\u001B[43m(\u001B[49m\u001B[43mdevice\u001B[49m\u001B[43m,\u001B[49m\u001B[43m \u001B[49m\u001B[43mdtype\u001B[49m\u001B[43m \u001B[49m\u001B[38;5;28;43;01mif\u001B[39;49;00m\u001B[43m \u001B[49m\u001B[43mt\u001B[49m\u001B[38;5;241;43m.\u001B[39;49m\u001B[43mis_floating_point\u001B[49m\u001B[43m(\u001B[49m\u001B[43m)\u001B[49m\u001B[43m \u001B[49m\u001B[38;5;129;43;01mor\u001B[39;49;00m\u001B[43m \u001B[49m\u001B[43mt\u001B[49m\u001B[38;5;241;43m.\u001B[39;49m\u001B[43mis_complex\u001B[49m\u001B[43m(\u001B[49m\u001B[43m)\u001B[49m\u001B[43m \u001B[49m\u001B[38;5;28;43;01melse\u001B[39;49;00m\u001B[43m \u001B[49m\u001B[38;5;28;43;01mNone\u001B[39;49;00m\u001B[43m,\u001B[49m\u001B[43m \u001B[49m\u001B[43mnon_blocking\u001B[49m\u001B[43m)\u001B[49m\n",
      "\u001B[1;31mRuntimeError\u001B[0m: CUDA out of memory. Tried to allocate 1.78 GiB (GPU 0; 4.00 GiB total capacity; 1.79 GiB already allocated; 1.08 GiB free; 1.80 GiB reserved in total by PyTorch) If reserved memory is >> allocated memory try setting max_split_size_mb to avoid fragmentation.  See documentation for Memory Management and PYTORCH_CUDA_ALLOC_CONF"
     ]
    }
   ],
   "source": [
    "device = 'cuda'\n",
    "model = model.to(device)\n",
    "model.eval()\n",
    "with torch.no_grad():\n",
    "    loss_test = 0\n",
    "    true_tags_test = []\n",
    "    pred_tags_test = []\n",
    "    # test_iter = corpus.test_iter\n",
    "    test_iter = corpus.test_iter\n",
    "    for batch in test_iter:\n",
    "        words = batch.word.to(device)\n",
    "        chars = batch.char.to(device)\n",
    "        true_tags = batch.tag.to(device)\n",
    "\n",
    "        print(\"Hê\")\n",
    "        pred_tags, batch_loss = model(words, chars, true_tags)\n",
    "        # print(pred_tags)\n",
    "\n",
    "        pred_tags_test += pred_tags\n",
    "        true_tags_test += [[tag for tag in sent_tag if tag != corpus.tag_pad_idx]\n",
    "                            for sent_tag in true_tags.permute(1, 0).tolist()]\n",
    "\n",
    "    print('Percentage of predicted sentences correctly on testing data: ')\n",
    "    print(sent_accuracy(pred_tags_test, true_tags_test))\n",
    "    print('--------------------------------------------------------------')\n",
    "    f1_score = f1_positive(corpus ,pred_tags_test, true_tags_test)"
   ],
   "metadata": {
    "collapsed": false,
    "pycharm": {
     "name": "#%%\n"
    }
   }
  },
  {
   "cell_type": "code",
   "execution_count": 77,
   "id": "c18e5b24",
   "metadata": {
    "pycharm": {
     "name": "#%%\n"
    }
   },
   "outputs": [
    {
     "data": {
      "text/plain": [
       "Counter({'O': 104750,\n",
       "         'B-ORGANIZATION': 1137,\n",
       "         'I-ORGANIZATION': 2545,\n",
       "         'B-SYMPTOM_AND_DISEASE': 1439,\n",
       "         'I-SYMPTOM_AND_DISEASE': 1552,\n",
       "         'B-LOCATION': 5398,\n",
       "         'B-DATE': 2549,\n",
       "         'B-PATIENT_ID': 3240,\n",
       "         'B-AGE': 682,\n",
       "         'B-NAME': 349,\n",
       "         'I-DATE': 2500,\n",
       "         'B-JOB': 205,\n",
       "         'I-LOCATION': 5242,\n",
       "         'B-TRANSPORTATION': 226,\n",
       "         'B-GENDER': 542,\n",
       "         'I-TRANSPORTATION': 67,\n",
       "         'I-JOB': 62,\n",
       "         'I-NAME': 13,\n",
       "         'I-AGE': 2,\n",
       "         'I-PATIENT_ID': 11})"
      ]
     },
     "execution_count": 77,
     "metadata": {},
     "output_type": "execute_result"
    }
   ],
   "source": [
    "label = []\n",
    "for i in range(len(corpus.train_dataset)):\n",
    "    label.extend(corpus.train_dataset[i].tag)\n",
    "    \n",
    "from collections import Counter\n",
    "Counter(label)"
   ]
  }
 ],
 "metadata": {
  "kernelspec": {
   "display_name": "Python 3 (ipykernel)",
   "language": "python",
   "name": "python3"
  },
  "language_info": {
   "codemirror_mode": {
    "name": "ipython",
    "version": 3
   },
   "file_extension": ".py",
   "mimetype": "text/x-python",
   "name": "python",
   "nbconvert_exporter": "python",
   "pygments_lexer": "ipython3",
   "version": "3.10.3"
  }
 },
 "nbformat": 4,
 "nbformat_minor": 5
}